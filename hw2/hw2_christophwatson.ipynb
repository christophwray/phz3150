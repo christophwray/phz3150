# This is my first jupyter practice notebook. 
Beginning of HW2. 
Syntax is the punctuation and format of a sentence: 
thiS may be, an EXAMPLE of incorrect; syntax and cOrrect characters}
Wyile thes wuuld be an examplb of incprrevt charectors and corract syntex. 0r th!$. 
Both sentences would not be interepreted by the computer (as programming languages) because the computer only understand binary. Human language needs to be comiled into binary and does so by taking the ASCII value, each characters corresponding number, which can then be represented by a series of zeros and ones and therefore understoof by the computer. 